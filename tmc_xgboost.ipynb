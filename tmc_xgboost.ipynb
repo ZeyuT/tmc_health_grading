{
 "cells": [
  {
   "cell_type": "markdown",
   "id": "6ca589b3-0c8b-4ba8-a40a-dc89a29c373b",
   "metadata": {},
   "source": [
    "## Build XGBoost model for ligament data\n",
    "Zeyu Tang \\\n",
    "Clemson University \\\n",
    "07/2025 \\\n",
    "tmc_xgboost.ipynb \\\n",
    "Purpose: train and evaluate XGBoost model using tabular data of ligament measures. "
   ]
  },
  {
   "cell_type": "markdown",
   "id": "b73fddf3-dbab-4fab-bbb0-a64068ba2ead",
   "metadata": {
    "tags": []
   },
   "source": [
    "### Dependencies"
   ]
  },
  {
   "cell_type": "code",
   "execution_count": 40,
   "id": "8b823a06-ef23-42c6-9544-e213e44397cd",
   "metadata": {
    "tags": []
   },
   "outputs": [
    {
     "name": "stdout",
     "output_type": "stream",
     "text": [
      "The autoreload extension is already loaded. To reload it, use:\n",
      "  %reload_ext autoreload\n"
     ]
    }
   ],
   "source": [
    "import glob\n",
    "import numpy as np\n",
    "import os\n",
    "import collections\n",
    "import sys\n",
    "\n",
    "import pandas as pd\n",
    "import pickle\n",
    "import matplotlib\n",
    "import matplotlib.pyplot as plt\n",
    "\n",
    "import csv\n",
    "\n",
    "import argparse\n",
    "import yaml\n",
    "import xgboost as xgb \n",
    "\n",
    "from sklearn.model_selection import train_test_split, KFold, cross_validate, cross_val_score, cross_val_predict\n",
    "from sklearn.metrics import accuracy_score, precision_score, recall_score, confusion_matrix, ConfusionMatrixDisplay\n",
    "from sklearn.utils.class_weight import compute_class_weight\n",
    "\n",
    "%load_ext autoreload\n"
   ]
  },
  {
   "cell_type": "code",
   "execution_count": 51,
   "id": "2d4cd200-64b8-4931-813e-0f51274d14b3",
   "metadata": {
    "tags": []
   },
   "outputs": [],
   "source": [
    "with open('configs.yaml', 'r') as file:\n",
    "    configs = yaml.safe_load(file)"
   ]
  },
  {
   "cell_type": "markdown",
   "id": "b13e8e6e-7636-4e59-958f-b9933ca7ed1f",
   "metadata": {},
   "source": [
    "#### XGBoost on static data"
   ]
  },
  {
   "cell_type": "code",
   "execution_count": 52,
   "id": "f856b1df-3b3e-4de9-a5b0-53aa50bccdf4",
   "metadata": {
    "tags": []
   },
   "outputs": [],
   "source": [
    "# Perform cross-validation\n",
    "cv_configs = configs['cv_configs']\n",
    "kf = KFold(n_splits=cv_configs['num_splits'], shuffle=True, random_state=cv_configs['random_seed'])\n",
    "\n",
    "gt_path = configs['gt_path']\n",
    "# Load ground truth labels and data\n",
    "with open(configs['gt_path'], 'rb') as file:\n",
    "    grades = pickle.load(file)\n",
    "with open(os.path.join(configs['processed_data_path'], 'static_data.pkl'), 'rb') as file:\n",
    "    static_data = pickle.load(file)\n",
    "    \n",
    "static_hid = list(static_data.keys())\n",
    "sample_codes = list(grades['group'].keys())"
   ]
  },
  {
   "cell_type": "code",
   "execution_count": 53,
   "id": "88ba05c2-cb35-4ec4-8fcd-ca4488cdfc1b",
   "metadata": {},
   "outputs": [],
   "source": [
    "results_path = os.path.join(configs['results_path'], 'static_model')\n",
    "os.makedirs(results_path, exist_ok=True)"
   ]
  },
  {
   "cell_type": "code",
   "execution_count": 73,
   "id": "8bbfdaca-5903-4161-aa96-b05eb360dfa3",
   "metadata": {
    "tags": []
   },
   "outputs": [
    {
     "name": "stdout",
     "output_type": "stream",
     "text": [
      "Old grading scheme\n",
      "#class: 5\n",
      "Counter({2: 11, 1: 8, 0: 6, 3: 6, 4: 1})\n",
      "Accuracy: 0.3125\n",
      "Precision: 0.3125\n",
      "Recall: 0.3125\n"
     ]
    },
    {
     "data": {
      "image/png": "[encoded data removed]",
      "text/plain": [
       "<Figure size 640x480 with 2 Axes>"
      ]
     },
     "metadata": {},
     "output_type": "display_data"
    }
   ],
   "source": [
    "''' Old grading scheme\n",
    "'''\n",
    "print(\"Old grading scheme\")\n",
    "\n",
    "all_preds = np.array([])\n",
    "all_labels = np.array([])\n",
    "y_static = [grades['old'][hid] for hid in static_hid]\n",
    "num_classes = len(np.unique(y_static))\n",
    "print(f\"#class: {num_classes}\")\n",
    "print(collections.Counter(y_static))\n",
    "\n",
    "model = xgb.XGBClassifier(n_estimators=100,\n",
    "                learning_rate=0.01,\n",
    "                max_depth=10,\n",
    "                subsample=0.8,\n",
    "                colsample_bytree=0.9,\n",
    "                objective='multi:softprob',\n",
    "                num_class=len(np.unique(y_static)))\n",
    "\n",
    "# Save detailed results for future analysis\n",
    "file = open(os.path.join(results_path, 'result_old.csv'), mode='w', newline='')\n",
    "writer = csv.writer(file)\n",
    "# Write the header\n",
    "writer.writerow(['Fold', 'Sample Code', 'Prediction', 'Ground Truth']+[f'P{class_}' for class_ in range(num_classes)])\n",
    "# Loop through each fold\n",
    "for fold, (train_index, test_index) in enumerate(kf.split(sample_codes)):\n",
    "    x_train = []\n",
    "    y_train = []\n",
    "    for hid in np.array(sample_codes)[train_index]:\n",
    "        if hid in static_hid:\n",
    "            x_train.append(np.concatenate(static_data[hid], axis=0))\n",
    "            y_train.append(grades['old'][hid])\n",
    "    x_train = np.array(x_train)\n",
    "    y_train = np.array(y_train)     \n",
    "\n",
    "    x_test = []\n",
    "    y_test = []\n",
    "    hid_test = []\n",
    "    for hid in np.array(sample_codes)[test_index]:\n",
    "        if hid in static_hid:\n",
    "            x_test.append(np.concatenate(static_data[hid], axis=0))\n",
    "            y_test.append(grades['old'][hid])\n",
    "            hid_test.append(hid)\n",
    "    x_test = np.array(x_test)\n",
    "    y_test = np.array(y_test)                \n",
    "    \n",
    "    # Z-score\n",
    "    mean = np.mean(x_train, axis=0)\n",
    "    std = np.std(x_train, axis=0)\n",
    "    x_train = (x_train-mean)/std\n",
    "    x_test = (x_test-mean)/std\n",
    "    \n",
    "    # Set class weights\n",
    "    classes = np.unique(y_train)  \n",
    "    class_sizes = np.array(sorted(collections.Counter(y_train).values()))\n",
    "    # computes the weight using inversed square root of class frequencies\n",
    "    class_weights = 1/class_sizes**(0.5)\n",
    "    sample_weights = np.array([class_weights[label] for label in y_train])\n",
    "\n",
    "    model.fit(x_train, y_train, sample_weight=sample_weights)\n",
    "\n",
    "    y_probs = model.predict_proba(x_test)\n",
    "    y_pred = np.argmax(y_probs,axis=1)\n",
    "    all_preds = np.concatenate((all_preds, y_pred))\n",
    "    all_labels = np.concatenate((all_labels, y_test))\n",
    "\n",
    "    for hid, pred, gt, probs in zip(hid_test, y_pred, y_test, y_probs):\n",
    "        writer.writerow([fold+1, hid, pred, gt]+list(probs))\n",
    "file.close()\n",
    "\n",
    "accuracy = accuracy_score(all_labels, all_preds)\n",
    "precision = precision_score(all_labels, all_preds, average='micro')\n",
    "recall = recall_score(all_labels, all_preds, average='micro')\n",
    "print(f'Accuracy: {accuracy}')\n",
    "print(f'Precision: {precision}')\n",
    "print(f'Recall: {recall}')\n",
    "\n",
    "# Generate the confusion matrix\n",
    "cm = confusion_matrix(all_labels, all_preds)\n",
    "\n",
    "# Display the confusion matrix\n",
    "disp = ConfusionMatrixDisplay(confusion_matrix=cm, display_labels=np.unique(all_labels))\n",
    "fig, ax = plt.subplots()\n",
    "disp.plot(cmap=plt.cm.Greys, ax=ax)\n",
    "ax.xaxis.set_label_position('top')  # Move the x-axis label to the top\n",
    "ax.xaxis.tick_top()  # Move the x-axis ticks to the top\n",
    "# plt.title('Confusion Matrix')\n",
    "plt.tight_layout() \n",
    "plt.show()"
   ]
  },
  {
   "cell_type": "code",
   "execution_count": 74,
   "id": "cbf9d40f-f429-42e7-b5b3-354f9aba4672",
   "metadata": {
    "tags": []
   },
   "outputs": [
    {
     "name": "stdout",
     "output_type": "stream",
     "text": [
      "New grading scheme\n",
      "#class: 2\n",
      "Counter({1: 23, 0: 9})\n",
      "Accuracy: 0.6875\n",
      "Precision: 0.6875\n",
      "Recall: 0.6875\n"
     ]
    },
    {
     "data": {
      "image/png": "[encoded data removed]",
      "text/plain": [
       "<Figure size 640x480 with 2 Axes>"
      ]
     },
     "metadata": {},
     "output_type": "display_data"
    }
   ],
   "source": [
    "''' New grading scheme\n",
    "'''\n",
    "print(\"New grading scheme\")\n",
    "static_hid = list(static_data.keys())\n",
    "all_preds = np.array([])\n",
    "all_labels = np.array([])\n",
    "y_static = {hid: grades['ligament'][hid] for hid in static_hid}\n",
    "num_classes = len(set(y_static.values()))\n",
    "print(f\"#class: {num_classes}\")\n",
    "print(collections.Counter(y_static.values()))\n",
    "\n",
    "# Save detailed results for future analysis\n",
    "file = open(os.path.join(results_path, 'result_ligament.csv'), mode='w', newline='')\n",
    "writer = csv.writer(file)\n",
    "# Write the header\n",
    "writer.writerow(['Fold', 'Sample Code', 'Prediction', 'Ground Truth']+[f'P{class_}' for class_ in range(num_classes)])\n",
    "\n",
    "# Loop through each fold\n",
    "for fold, (train_index, test_index) in enumerate(kf.split(sample_codes)):\n",
    "    x_train = []\n",
    "    y_train = []\n",
    "    for hid in np.array(sample_codes)[train_index]:\n",
    "        if hid in static_hid:\n",
    "            x_train.append(np.concatenate(static_data[hid], axis=0))\n",
    "            y_train.append(y_static[hid])\n",
    "    x_train = np.array(x_train)\n",
    "    y_train = np.array(y_train)     \n",
    "\n",
    "    x_test = []\n",
    "    y_test = []\n",
    "    hid_test = []\n",
    "    for hid in np.array(sample_codes)[test_index]:\n",
    "        if hid in static_hid:\n",
    "            x_test.append(np.concatenate(static_data[hid], axis=0))\n",
    "            y_test.append(y_static[hid])\n",
    "            hid_test.append(hid)\n",
    "    x_test = np.array(x_test)\n",
    "    y_test = np.array(y_test)                \n",
    "    \n",
    "#     # Z-score\n",
    "    mean = np.mean(x_train, axis=0)\n",
    "    std = np.std(x_train, axis=0)\n",
    "    x_train = (x_train-mean)/std\n",
    "    x_test = (x_test-mean)/std\n",
    "    \n",
    "    # Set class weights\n",
    "    classes = np.unique(y_train)  \n",
    "    # computes the weight using inversed square root of class frequencies\n",
    "    class_sizes = np.array(sorted(collections.Counter(y_train).values()))\n",
    "    # class_weights = 1/class_sizes**(0.5)\n",
    "    sample_weights = np.array([class_weights[label] for label in y_train])\n",
    "    \n",
    "    model = xgb.XGBClassifier(n_estimators=5,\n",
    "                learning_rate=0.01,\n",
    "                max_depth=20,\n",
    "                subsample=0.8,\n",
    "                colsample_bytree=0.9,\n",
    "                objective='binary:logistic')\n",
    "    model.fit(x_train, y_train, \n",
    "              # sample_weight=sample_weights\n",
    "             )\n",
    "    y_probs = model.predict_proba(x_test)\n",
    "    y_pred = np.argmax(y_probs,axis=1)\n",
    "    all_preds = np.concatenate((all_preds, y_pred))\n",
    "    all_labels = np.concatenate((all_labels, y_test))\n",
    "\n",
    "    for hid, pred, gt, probs in zip(hid_test, y_pred, y_test, y_probs):\n",
    "        writer.writerow([fold+1, hid, pred, gt]+list(probs))\n",
    "\n",
    "file.close()     \n",
    "\n",
    "accuracy = accuracy_score(all_labels, all_preds)\n",
    "precision = precision_score(all_labels, all_preds, average='micro')\n",
    "recall = recall_score(all_labels, all_preds, average='micro')\n",
    "print(f'Accuracy: {accuracy}')\n",
    "print(f'Precision: {precision}')\n",
    "print(f'Recall: {recall}')\n",
    "\n",
    "# Generate the confusion matrix\n",
    "cm = confusion_matrix(all_labels, all_preds)\n",
    "\n",
    "# Display the confusion matrix\n",
    "disp = ConfusionMatrixDisplay(confusion_matrix=cm, display_labels=['Intact','Attenuated'])\n",
    "fig, ax = plt.subplots()\n",
    "disp.plot(cmap=plt.cm.Greys, ax=ax)\n",
    "ax.xaxis.set_label_position('top')  # Move the x-axis label to the top\n",
    "ax.xaxis.tick_top()  # Move the x-axis ticks to the top\n",
    "# plt.title('Confusion Matrix')\n",
    "plt.tight_layout() \n",
    "plt.show()"
   ]
  }
 ],
 "metadata": {
  "kernelspec": {
   "display_name": "torch-1.13",
   "language": "python",
   "name": "torch-1.13"
  },
  "language_info": {
   "codemirror_mode": {
    "name": "ipython",
    "version": 3
   },
   "file_extension": ".py",
   "mimetype": "text/x-python",
   "name": "python",
   "nbconvert_exporter": "python",
   "pygments_lexer": "ipython3",
   "version": "3.7.16"
  }
 },
 "nbformat": 4,
 "nbformat_minor": 5
}
