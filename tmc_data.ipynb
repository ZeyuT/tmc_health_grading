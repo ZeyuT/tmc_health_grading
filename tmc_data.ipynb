{
 "cells": [
  {
   "cell_type": "markdown",
   "id": "81e3b41d-a866-493f-8600-01ec656a9510",
   "metadata": {},
   "source": [
    "## Training a classification model using the TMC data"
   ]
  },
  {
   "cell_type": "markdown",
   "id": "a617134a-04f8-4439-a34b-939ed557ff4d",
   "metadata": {
    "tags": []
   },
   "source": [
    "### Dependencies"
   ]
  },
  {
   "cell_type": "code",
   "execution_count": 1,
   "id": "8e339cab-c706-4cff-8f87-d938179e7f06",
   "metadata": {
    "tags": []
   },
   "outputs": [],
   "source": [
    "import glob\n",
    "import numpy as np\n",
    "import os\n",
    "import collections\n",
    "import sys\n",
    "\n",
    "import pandas as pd\n",
    "import pickle\n",
    "import matplotlib\n",
    "import matplotlib.pyplot as plt\n",
    "\n",
    "import cv2\n",
    "import imageio\n",
    "import csv\n",
    "from tifffile import TiffFile, imsave, imread, imwrite\n",
    "\n",
    "import argparse\n",
    "import yaml\n",
    "\n",
    "%load_ext autoreload\n"
   ]
  },
  {
   "cell_type": "markdown",
   "id": "bb7e091d-73d5-402e-8a66-ecd62613bac6",
   "metadata": {
    "tags": []
   },
   "source": [
    "### Constants"
   ]
  },
  {
   "cell_type": "code",
   "execution_count": 2,
   "id": "bc8fc6d4-594f-426e-a3a5-340248d1524b",
   "metadata": {
    "tags": []
   },
   "outputs": [],
   "source": [
    "root_path = '/project/ahoover/mhealth/zeyut/tmc/TMC AI Files'\n",
    "processed_data_path = '/project/ahoover/mhealth/zeyut/tmc/TMC AI Files/ProcessedData'\n",
    "raw_data_path = '/project/ahoover/mhealth/zeyut/tmc/TMC AI Files/Data'\n",
    "gt_path = '/project/ahoover/mhealth/zeyut/tmc/TMC AI Files/ProcessedData/gt.pkl'\n",
    "result_path = '/project/ahoover/mhealth/zeyut/tmc/results/'\n",
    "# result_path = './results/'\n",
    "\n",
    "exclude_ids = ['H3', 'H14', 'H20', 'J1']\n",
    "\n",
    "Label2Numbers = {'Healthy': 0, 'Peri-OA': 1, 'OA': 2}\n",
    "Numbers2Labels = {0: 'Healthy', 1: 'Peri-OA', 2: 'OA'}\n",
    "\n",
    "gesture_list = ['Key Pinch', 'Stat Abd', 'Stat Add', 'Stat Ext', 'Stat Flex']\n",
    "\n",
    "kinematic_channels = ['helical_angle',\n",
    "             'helical_translation',\n",
    "             'volar-dorsal_angle',\n",
    "             'volar-dorsal_translation',\n",
    "             'radial-ulnar_angle',\n",
    "             'radial-ulnar_translation',\n",
    "             'inferior-superior_angle',\n",
    "             'inferior-superior_translation']\n",
    "target_cycle_lens = {'Key Pinch': 11500,\n",
    "                     'Stat Abd': 9000,\n",
    "                     'Stat Add': 9200,\n",
    "                     'Stat Ext': 9200,\n",
    "                     'Stat Flex': 11500}\n",
    "target_cycle_len = 12000\n",
    "downsample_rate = 10\n",
    "cv_configs = {'random_seed': 42,\n",
    "              'num_splits': 5}\n",
    "\n",
    "kinematic_model_configs = {'gt_type': 'kinematic',\n",
    "                            'num_epochs': 10,\n",
    "                           'batch_size': 8,\n",
    "                           'beta': 0.9999,\n",
    "                           'num_workers': 4,\n",
    "                           'max_step': 50,\n",
    "                           'learning_rate': 0.001,\n",
    "                           'patience': 3,\n",
    "                           'constrastive_margin': 0.2,\n",
    "                          'top_k': 3}\n",
    "image_model_configs = {'gt_type': 'bony',\n",
    "                        'num_epochs': 20,\n",
    "                        'batch_size': 4,\n",
    "                        'max_step': 30,\n",
    "                        'num_workers': 4,\n",
    "                        'patience': 3,\n",
    "                        'learning_rate': 0.001,\n",
    "                        'seed_path': \"/project/ahoover/mhealth/zeyut/tmc/pre_trained/swin_unetr_btcv_segmentation/models/model.pt\"\n",
    "                        }\n",
    "\n",
    "configs = {'root_path': root_path,\n",
    "           'raw_data_path': raw_data_path,\n",
    "           'processed_data_path': processed_data_path,\n",
    "           'gt_path': gt_path,\n",
    "           'results_path': result_path,\n",
    "           'Label2Numbers': Label2Numbers,\n",
    "           'gesture_list': gesture_list,\n",
    "           'kinematic_channels': kinematic_channels,\n",
    "           'target_cycle_len': target_cycle_len,\n",
    "           'downsample_rate': 10,\n",
    "           'cv_configs': cv_configs,\n",
    "           'kinematic_model_configs': kinematic_model_configs,\n",
    "          'image_model_configs': image_model_configs}\n",
    "\n",
    "with open(os.path.join(root_path, 'configs.yaml'), 'w') as file:\n",
    "    yaml.dump(configs, file)"
   ]
  },
  {
   "cell_type": "code",
   "execution_count": 3,
   "id": "afac5fa4-a424-4d7c-b14e-bdb0007d333c",
   "metadata": {
    "tags": []
   },
   "outputs": [],
   "source": [
    "font = {'weight' : 'normal','size': 21}\n",
    "matplotlib.rc('font', **font)\n",
    "matplotlib.rcParams['pdf.fonttype'] = 42\n",
    "matplotlib.rcParams['ps.fonttype'] = 42\n",
    "\n",
    "matplotlib.rcParams['axes.spines.top'] = True\n",
    "matplotlib.rcParams['axes.spines.left'] = True\n",
    "matplotlib.rcParams['axes.spines.right'] = True\n",
    "matplotlib.rcParams['axes.spines.bottom'] = True"
   ]
  },
  {
   "cell_type": "markdown",
   "id": "ad207081-0015-4676-9d3a-10a9b135f5eb",
   "metadata": {
    "tags": []
   },
   "source": [
    "### Load data"
   ]
  },
  {
   "cell_type": "markdown",
   "id": "7bc37829-2d3e-4192-b46e-f8cb63f36918",
   "metadata": {
    "tags": []
   },
   "source": [
    "#### Ground truth files"
   ]
  },
  {
   "cell_type": "code",
   "execution_count": 63,
   "id": "e74a4389-753f-4918-b092-36392388ccf1",
   "metadata": {
    "tags": []
   },
   "outputs": [],
   "source": [
    "grades = collections.defaultdict(dict)\n",
    "ages = {}\n",
    "\n",
    "# # Load new scores\n",
    "# grade_df = pd.read_excel(os.path.join(root_path, 'Supplements/Hand Groups.xlsx'))\n",
    "# id_list = (grade_df.iloc[:, 0].tolist())\n",
    "# for hid in id_list:\n",
    "#     group = grade_df.iloc[grade_df.index[grade_df.iloc[:, 0] == hid][0], 1]\n",
    "#     grades['new'][hid] = Label2Numbers[group]\n",
    "    \n",
    "# Load new scores\n",
    "grade_df = pd.read_excel(os.path.join(root_path, 'Supplements/summary_classification_per_cohort.xlsx'))\n",
    "id_list = (grade_df.iloc[:, 0].tolist())\n",
    "for hid in exclude_ids:\n",
    "    try:\n",
    "        id_list.remove(hid)\n",
    "    except:\n",
    "        pass\n",
    "for hid in id_list:\n",
    "    group = grade_df.iloc[grade_df.index[grade_df.iloc[:, 0] == hid][0], 2]\n",
    "    grades['group'][hid] = Label2Numbers[group]\n",
    "    kinematic_class = grade_df.iloc[grade_df.index[grade_df.iloc[:, 0] == hid][0], 4]\n",
    "    grades['kinematic'][hid] = kinematic_class\n",
    "    bony_class = grade_df.iloc[grade_df.index[grade_df.iloc[:, 0] == hid][0], 6]\n",
    "    grades['bony'][hid] = bony_class\n",
    "    ligament_class = grade_df.iloc[grade_df.index[grade_df.iloc[:, 0] == hid][0], 8]\n",
    "    grades['ligament'][hid] = ligament_class\n",
    "        \n",
    "# Load old OA scores\n",
    "old_grades = {}\n",
    "grade_df = pd.read_excel(os.path.join(root_path, 'Supplements/all_results_clean_for_stats.xlsx'))\n",
    "for hid in id_list:\n",
    "    try:\n",
    "        grades['old'][hid] = grade_df.iloc[grade_df.index[grade_df.iloc[:, 0] == hid][0], 2]\n",
    "        ages[hid] = grade_df.iloc[grade_df.index[grade_df.iloc[:, 0] == hid][0], 1]\n",
    "    except:\n",
    "        print(f'Cannot find old grade for {hid}')\n",
    "        del grades['new'][hid]\n",
    "    "
   ]
  },
  {
   "cell_type": "code",
   "execution_count": 64,
   "id": "2cbbb73c-c8f3-4bbc-9e05-971e05640dc1",
   "metadata": {
    "tags": []
   },
   "outputs": [
    {
     "name": "stdout",
     "output_type": "stream",
     "text": [
      "class size\n",
      "old_grades: [7, 12, 12, 7, 2]\n",
      "new_grades: [11, 10, 19]\n"
     ]
    }
   ],
   "source": [
    "print(f'class size')\n",
    "class_sizes_old = [collections.Counter(list(grades['old'].values())).get(i, 0) for i in range(5)]\n",
    "class_sizes_new = [collections.Counter(list(grades['group'].values())).get(i, 0) for i in range(3)]\n",
    "print(f\"old_grades: {class_sizes_old}\")\n",
    "print(f\"new_grades: {class_sizes_new}\")"
   ]
  },
  {
   "cell_type": "code",
   "execution_count": 65,
   "id": "0cdc403a-3136-4ddb-b910-dd62f927f702",
   "metadata": {
    "tags": []
   },
   "outputs": [],
   "source": [
    "if not os.path.exists(gt_path):\n",
    "    with open(gt_path, 'wb') as file:\n",
    "        pickle.dump(grades, file)"
   ]
  },
  {
   "cell_type": "markdown",
   "id": "6b85c92d-57fd-4882-bc8b-b1dabd6d74c1",
   "metadata": {},
   "source": [
    "#### Processed kinematic data\n",
    "* Calculated from motion and rigid body data \n",
    "* Processing script: kinematic_multiprocessing.py (Edited on 11/2024 by Daniel Gordon)\n",
    "* subject H7, H8, H16, J2, J4, J8, J9 do not have kinematic data"
   ]
  },
  {
   "cell_type": "code",
   "execution_count": 8,
   "id": "14e5a6ff-54c3-493b-b567-c03afbb09817",
   "metadata": {
    "tags": []
   },
   "outputs": [],
   "source": [
    "raw_pkl_path = os.path.join(processed_data_path, 'kinematic_raw.pkl')\n",
    "max_, min_ = 0, 10000\n",
    "if os.path.exists(raw_pkl_path):\n",
    "    with open(raw_pkl_path, 'rb') as file:\n",
    "        kinematic_raw = pickle.load(file)\n",
    "else:\n",
    "    # Load raw data\n",
    "    kinematic_raw = collections.defaultdict(dict)\n",
    "    for hid in id_list:\n",
    "        cur_path = os.path.join(root_path, f'ProcessingScripts/Results/{hid} Kinematic Results.xlsx')\n",
    "        try:\n",
    "            kinematic_sheets = pd.read_excel(cur_path, sheet_name=None)\n",
    "            for sheet_name in kinematic_sheets.keys():\n",
    "                gesture = sheet_name.split(hid)[1].strip()\n",
    "                raw = kinematic_sheets[sheet_name].values\n",
    "                kinematic_raw[hid][gesture] = kinematic_sheets[sheet_name].values\n",
    "                max_ = max(max_, np.max(kinematic_raw[hid][gesture]))\n",
    "                min_ = min(min_, np.min(kinematic_raw[hid][gesture]))\n",
    "        except:\n",
    "            print(f'Can not open {hid} kinematic result file')\n",
    "    print(f'max value: {max_}, min value: {min_}')\n",
    "    # Save data to pkl file to reduce loading time\n",
    "    with open(raw_pkl_path, 'wb') as file:\n",
    "        pickle.dump(kinematic_raw, file)"
   ]
  },
  {
   "cell_type": "code",
   "execution_count": 9,
   "id": "973f9a39-e592-430b-b910-5ca0f1474f4b",
   "metadata": {
    "tags": []
   },
   "outputs": [
    {
     "name": "stdout",
     "output_type": "stream",
     "text": [
      "4\n",
      "2\n",
      "4\n",
      "4\n",
      "1\n"
     ]
    }
   ],
   "source": [
    "# Load start/end timestamps for each cycle \n",
    "cycles = collections.defaultdict(dict)\n",
    "all_cycle_sheets = pd.read_excel(os.path.join(root_path, f'Supplements/Kinematic Cycles.xlsx'), sheet_name=None)\n",
    "for hid in kinematic_raw:\n",
    "    try:\n",
    "        cycle_df = all_cycle_sheets[hid]\n",
    "        for _, row in cycle_df.iterrows():\n",
    "            gesture = row.iloc[0]\n",
    "            cur_cycles = []\n",
    "            for i, value in enumerate(row[1:]):  # skipping index\n",
    "                if not pd.isna(value):\n",
    "                    start_idx, end_idx = value.split(':')\n",
    "                    cur_cycles.append([int(start_idx.strip()), int(end_idx.strip())])\n",
    "            if cur_cycles:\n",
    "                cycles[hid][gesture] = cur_cycles\n",
    "    except:\n",
    "        print(f'Can not find cycle info for {hid}')\n",
    "\n",
    "# Remove those subjects that do not have at least one gesture \n",
    "for hid in list(cycles.keys()):\n",
    "    if len(cycles[hid]) < 5:\n",
    "        print(len(cycles[hid]))\n",
    "        # del cycles[hid]\n"
   ]
  },
  {
   "cell_type": "code",
   "execution_count": 10,
   "id": "15775913-b4b3-4404-83f6-1d1fd4202d51",
   "metadata": {
    "tags": []
   },
   "outputs": [
    {
     "name": "stdout",
     "output_type": "stream",
     "text": [
      "Max cycle length\n",
      "max cycle length per gesture: [1157, 695, 740, 671, 793]\n",
      "max cycle length per gesture: [8679, 6921, 6629, 6921, 7372]\n",
      "max cycle length per gesture: [11332, 8885, 8280, 8391, 10320]\n",
      "max cycle length per gesture: [7113, 8317, 8011, 7816, 9264]\n",
      "max cycle length per gesture: [11432, 8312, 8306, 8189, 10547]\n",
      "max cycle length per gesture: [9520, 9115, 9157, 7509, 9398]\n",
      "max cycle length per gesture: [8518, 8607, 8000, 8640, 9246]\n",
      "max cycle length per gesture: [10721, 8120, 8234, 8117, 11429]\n",
      "max cycle length per gesture: [28, 46, 17, 33]\n",
      "max cycle length per gesture: [9494, 7157, 7144, 8943, 7901]\n",
      "max cycle length per gesture: [9480, 8368]\n",
      "max cycle length per gesture: [469, 388, 406, 382, 414]\n",
      "max cycle length per gesture: [382, 319, 301, 349, 219]\n",
      "max cycle length per gesture: [270, 181, 233, 324, 255]\n",
      "max cycle length per gesture: [362, 273, 380, 469, 283]\n",
      "max cycle length per gesture: [456, 338, 247, 432, 336]\n",
      "max cycle length per gesture: [7962, 7133, 7173, 7803]\n",
      "max cycle length per gesture: [8697, 8006, 7252, 7858, 8120]\n",
      "max cycle length per gesture: [8545, 7206, 7661, 6822, 7946]\n",
      "max cycle length per gesture: [6958, 6628, 6626, 6644, 6589]\n",
      "max cycle length per gesture: [8816, 7066, 7558, 7070, 8159]\n",
      "max cycle length per gesture: [8684, 7072, 7764, 7022, 8003]\n",
      "max cycle length per gesture: [9134, 7277, 7728, 7248, 8314]\n",
      "max cycle length per gesture: [6376, 6984, 6370, 6349, 7318]\n",
      "max cycle length per gesture: [6732, 6824, 6630, 6975, 6755]\n",
      "max cycle length per gesture: [7701, 8827, 8184, 7269, 7839]\n",
      "max cycle length per gesture: [6684, 6580, 6730, 6459, 6444]\n",
      "max cycle length per gesture: [10101, 7463, 8076, 7460, 9755]\n",
      "max cycle length per gesture: [7769, 7350, 7246, 7393]\n",
      "max cycle length per gesture: [7873]\n",
      "max cycle length per gesture: [9330, 7962, 7108, 6873, 6346]\n"
     ]
    }
   ],
   "source": [
    "# Count maximum cycle length for each gesture\n",
    "print('Max cycle length')\n",
    "for hid in cycles:\n",
    "    # print(hid)\n",
    "    all_lens = []\n",
    "    for gesture in cycles[hid]:\n",
    "        lens = [end-start for start, end in cycles[hid][gesture]]\n",
    "        # print(f\"{gesture} max: {np.max(lens)} avg: {np.mean(lens):.02f} cycle len: {lens}\")    \n",
    "    \n",
    "        all_lens.append(max([end-start for start, end in cycles[hid][gesture]]))\n",
    "    print(f'max cycle length per gesture: {all_lens}')"
   ]
  },
  {
   "cell_type": "code",
   "execution_count": 11,
   "id": "b1762c81-1665-40f1-bc07-ed9267cd7bb5",
   "metadata": {
    "tags": []
   },
   "outputs": [],
   "source": [
    "# Slice data within each cycle and save to files\n",
    "kinematic_data = collections.defaultdict(dict)\n",
    "for hid in kinematic_raw:\n",
    "    if hid not in cycles:\n",
    "        continue\n",
    "    for gesture in kinematic_raw[hid]:\n",
    "        if gesture not in cycles[hid]:\n",
    "            continue\n",
    "        data = kinematic_raw[hid][gesture]\n",
    "        kinematic_data[hid][gesture] = []\n",
    "        for start_idx, end_idx in cycles[hid][gesture]:\n",
    "            kinematic_data[hid][gesture].append(data[start_idx: end_idx])\n",
    "\n",
    "if not os.path.exists(os.path.join(processed_data_path, 'kinematic_data.pkl')):\n",
    "    with open(os.path.join(processed_data_path, 'kinematic_data.pkl'), 'wb') as file:\n",
    "        pickle.dump(kinematic_data, file)\n",
    "\n"
   ]
  },
  {
   "cell_type": "markdown",
   "id": "9201b8e1-b7b9-4b33-8720-8d286df9b8a4",
   "metadata": {
    "tags": []
   },
   "source": [
    "#### Static data \n",
    "* Include kinematic indices from motion tracking data and mechanical/dimensional measurements\n",
    "* Select sample codes which have data available on all types"
   ]
  },
  {
   "cell_type": "code",
   "execution_count": 66,
   "id": "3235627b-368c-4100-9bc2-2ed512d75018",
   "metadata": {
    "tags": []
   },
   "outputs": [],
   "source": [
    "import collections\n",
    "static_data = collections.defaultdict(list)\n",
    "\n",
    "'''\n",
    "Data drieved from dynamic measurement\n",
    "    File: all_results_clean_for_stats.xlsx \n",
    "    Use sheet 'bony' and 'kinm', sheet 'mech' has many empty cells.\n",
    "\n",
    "'''\n",
    "static_df = pd.read_excel(os.path.join(root_path, f'Supplements/All_Data_New_Gold.xlsx'))\n",
    "\n",
    "static_df.dropna(thresh=150, inplace=True) # Drop rows with more than 150 cells being nan\n",
    "static_df.dropna(thresh=10, inplace=True, axis=1) # Drop columns with more than 10 cells being nan\n",
    "sid_list = static_df.iloc[:, 0].values\n",
    "gt_col = map(lambda x: Label2Numbers[x], static_df.iloc[:, 7].values)\n",
    "static_df = static_df.drop(columns=static_df.columns[:10]) # Leave numeric data only\n",
    "static_df.fillna(static_df.mean(), inplace=True) # Fill empty values with column average\n",
    "for hid, data in zip(sid_list, static_df.values):\n",
    "    static_data[hid].append(data)"
   ]
  },
  {
   "cell_type": "code",
   "execution_count": 67,
   "id": "70552bee-ebde-4c58-90a9-be7bc5adce6a",
   "metadata": {
    "tags": []
   },
   "outputs": [],
   "source": [
    "if not os.path.exists(os.path.join(processed_data_path, 'static_data.pkl')):\n",
    "    with open(os.path.join(processed_data_path, 'static_data.pkl'), 'wb') as file:\n",
    "        pickle.dump(static_data, file)"
   ]
  },
  {
   "cell_type": "markdown",
   "id": "4ab439d4-bef3-43cd-ac05-47408d38d32b",
   "metadata": {
    "tags": []
   },
   "source": [
    "#### Image data"
   ]
  },
  {
   "cell_type": "code",
   "execution_count": 69,
   "id": "2d51260b-fd1d-41c1-bde3-d0e4e39ea383",
   "metadata": {
    "tags": []
   },
   "outputs": [
    {
     "name": "stdout",
     "output_type": "stream",
     "text": [
      "#image samples: 37\n"
     ]
    }
   ],
   "source": [
    "image_hid = []\n",
    "for hid in id_list:\n",
    "    image_list = glob.glob(os.path.join(root_path, f\"Data/{hid}/BonyGeometry/DICOMs/CT*/*.IMA\"))\n",
    "    if len(image_list) > 0:\n",
    "        image_hid.append(hid)\n",
    "\n",
    "print(f'#image samples: {len(image_hid)}')"
   ]
  },
  {
   "cell_type": "code",
   "execution_count": 54,
   "id": "14984f43-c522-4ad8-9a30-dc3ab3be93a6",
   "metadata": {
    "tags": []
   },
   "outputs": [],
   "source": [
    "image_paths = sorted(glob.glob(os.path.join(root_path, f\"Data/{hid}/BonyGeometry/DICOMs/CT*/*.IMA\")))  "
   ]
  },
  {
   "cell_type": "code",
   "execution_count": 60,
   "id": "784b66ec-48e1-4f7e-82fa-a1ff72299b89",
   "metadata": {
    "tags": []
   },
   "outputs": [],
   "source": [
    "valid_sc = []\n",
    "\n",
    "for sc in id_list:\n",
    "    image_list = glob.glob(os.path.join(root_path, f\"Data/{hid}/BonyGeometry/DICOMs/CT*/*.IMA\"))\n",
    "    if len(image_list) > 0:\n",
    "        valid_sc.append(sc)"
   ]
  },
  {
   "cell_type": "code",
   "execution_count": 61,
   "id": "cb897353-a4cc-4769-9704-4890c3a1d13c",
   "metadata": {
    "tags": []
   },
   "outputs": [
    {
     "data": {
      "text/plain": [
       "40"
      ]
     },
     "execution_count": 61,
     "metadata": {},
     "output_type": "execute_result"
    }
   ],
   "source": [
    "len(valid_sc)"
   ]
  },
  {
   "cell_type": "code",
   "execution_count": 24,
   "id": "21d521c5-7b40-4812-a289-1a4cac4599ca",
   "metadata": {
    "tags": []
   },
   "outputs": [],
   "source": [
    "# Save image data to pkl file to reduce loading time\n",
    "# Currently, masks are not included \n",
    "max_ = 0\n",
    "min_ = float('inf')\n",
    "for hid in id_list:\n",
    "    image_pkl_path = os.path.join(processed_data_path, f'images/{hid}.pkl')\n",
    "    if not os.path.exists(image_pkl_path):\n",
    "        image_paths = sorted(glob.glob(os.path.join(root_path, f\"Data/{hid}/BonyGeometry/DICOMs/CT*/*.IMA\")))  \n",
    "        mask_img = imread(os.path.join(root_path, f\"CT Labelling/{hid} Labels.tif\"))\n",
    "        os.makedirs(os.path.join(processed_data_path,'images'), exist_ok=True)\n",
    "        cur_vol = np.zeros((512, 512, 512))\n",
    "        for i, slice_file in enumerate(image_paths):\n",
    "            if i >= 512:\n",
    "                break  # Avoid reading more slices than the target depth\n",
    "            image = imageio.v2.imread(slice_file).astype(np.float32) \n",
    "            if image.shape != (512,512):\n",
    "                print(hid, image.shape)\n",
    "            cur_vol[i, :, :] = image\n",
    "            max_ = max(max_, np.max(cur_vol))\n",
    "            min_ = min(min_, np.min(cur_vol))\n",
    "        with open(image_pkl_path, 'wb') as file:\n",
    "            pickle.dump(cur_vol, file)"
   ]
  },
  {
   "cell_type": "code",
   "execution_count": 20,
   "id": "4ede0110-d4a0-4641-8259-9b93b8f7df7c",
   "metadata": {
    "tags": []
   },
   "outputs": [
    {
     "name": "stdout",
     "output_type": "stream",
     "text": [
      "cannot find labels for H8\n",
      "cannot find labels for H17\n",
      "cannot find labels for H21\n",
      "cannot find labels for H35\n",
      "cannot find labels for H36\n",
      "cannot find labels for J4\n"
     ]
    }
   ],
   "source": [
    "# Load segmentation masks\n",
    "for hid in id_list:\n",
    "    label_path = os.path.join(root_path, f\"CT Labelling/{hid} Labels.tif\")\n",
    "    if os.path.exists(label_path):\n",
    "        label_img = imread(label_path)\n",
    "    else:\n",
    "        print(f'cannot find labels for {hid}')\n",
    "    # break"
   ]
  }
 ],
 "metadata": {
  "kernelspec": {
   "display_name": "torch-1.13",
   "language": "python",
   "name": "torch-1.13"
  },
  "language_info": {
   "codemirror_mode": {
    "name": "ipython",
    "version": 3
   },
   "file_extension": ".py",
   "mimetype": "text/x-python",
   "name": "python",
   "nbconvert_exporter": "python",
   "pygments_lexer": "ipython3",
   "version": "3.7.16"
  }
 },
 "nbformat": 4,
 "nbformat_minor": 5
}
