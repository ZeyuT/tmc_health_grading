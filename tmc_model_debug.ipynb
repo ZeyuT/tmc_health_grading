{
 "cells": [
  {
   "cell_type": "markdown",
   "id": "81e3b41d-a866-493f-8600-01ec656a9510",
   "metadata": {},
   "source": [
    "## Training a classification model using the TMC data"
   ]
  },
  {
   "cell_type": "markdown",
   "id": "a617134a-04f8-4439-a34b-939ed557ff4d",
   "metadata": {
    "tags": []
   },
   "source": [
    "### Dependencies"
   ]
  },
  {
   "cell_type": "code",
   "execution_count": 3,
   "id": "8e339cab-c706-4cff-8f87-d938179e7f06",
   "metadata": {
    "tags": []
   },
   "outputs": [],
   "source": [
    "import glob\n",
    "import numpy as np\n",
    "import os\n",
    "import collections\n",
    "import sys\n",
    "\n",
    "import pandas as pd\n",
    "import pickle\n",
    "import matplotlib\n",
    "import matplotlib.pyplot as plt\n",
    "\n",
    "import cv2\n",
    "import imageio\n",
    "import csv\n",
    "from tifffile import TiffFile, imsave, imread, imwrite\n",
    "\n",
    "from scipy import signal\n",
    "from scipy.ndimage import uniform_filter1d\n",
    "\n",
    "\n",
    "import torch\n",
    "import torch.nn as nn\n",
    "from torch.utils.data import Dataset, DataLoader\n",
    "from torch.optim import Adam\n",
    "\n",
    "from torchvision import transforms\n",
    "from torchinfo import summary\n",
    "\n",
    "import argparse\n",
    "import yaml\n",
    "import xgboost as xgb \n",
    "\n",
    "from sklearn.model_selection import train_test_split, KFold, cross_validate, cross_val_score, cross_val_predict\n",
    "from sklearn.metrics import accuracy_score, precision_score, recall_score, confusion_matrix, ConfusionMatrixDisplay\n",
    "from sklearn.utils.class_weight import compute_class_weight\n",
    "\n",
    "\n",
    "import monai\n",
    "\n",
    "%load_ext autoreload\n",
    "original_sys_path = sys.path.copy()"
   ]
  },
  {
   "cell_type": "code",
   "execution_count": 4,
   "id": "afac5fa4-a424-4d7c-b14e-bdb0007d333c",
   "metadata": {
    "tags": []
   },
   "outputs": [],
   "source": [
    "font = {'weight' : 'normal','size': 21}\n",
    "matplotlib.rc('font', **font)\n",
    "matplotlib.rcParams['pdf.fonttype'] = 42\n",
    "matplotlib.rcParams['ps.fonttype'] = 42\n",
    "\n",
    "matplotlib.rcParams['axes.spines.top'] = True\n",
    "matplotlib.rcParams['axes.spines.left'] = True\n",
    "matplotlib.rcParams['axes.spines.right'] = True\n",
    "matplotlib.rcParams['axes.spines.bottom'] = True"
   ]
  },
  {
   "cell_type": "code",
   "execution_count": 5,
   "id": "2c30cca6-336d-4147-930c-23ec703601d3",
   "metadata": {
    "tags": []
   },
   "outputs": [],
   "source": [
    "device = torch.device(\"cuda\" if torch.cuda.is_available() else \"cpu\")"
   ]
  },
  {
   "cell_type": "markdown",
   "id": "ad207081-0015-4676-9d3a-10a9b135f5eb",
   "metadata": {
    "tags": []
   },
   "source": [
    "### Load configs and ground truth"
   ]
  },
  {
   "cell_type": "code",
   "execution_count": 6,
   "id": "0cdc403a-3136-4ddb-b910-dd62f927f702",
   "metadata": {
    "tags": []
   },
   "outputs": [],
   "source": [
    "with open('configs.yaml', 'r') as file:\n",
    "    configs = yaml.safe_load(file)\n",
    "with open(configs['gt_path'], 'rb') as file:\n",
    "        grades = pickle.load(file)"
   ]
  },
  {
   "cell_type": "markdown",
   "id": "5be0cda4-861b-4f86-94e6-0bc107acb8c4",
   "metadata": {},
   "source": [
    "### Kinematic model"
   ]
  },
  {
   "cell_type": "code",
   "execution_count": 5,
   "id": "b3a5edac-f4bb-46c7-ae71-6d965f5223bf",
   "metadata": {
    "tags": []
   },
   "outputs": [],
   "source": [
    "with open(os.path.join(configs['processed_data_path'], 'kinematic_data.pkl'), 'rb') as file:\n",
    "    kinematic_data = pickle.load(file)"
   ]
  },
  {
   "cell_type": "code",
   "execution_count": 6,
   "id": "e0fb7822-8997-40bb-a286-19faa03a2f26",
   "metadata": {
    "tags": []
   },
   "outputs": [
    {
     "ename": "AttributeError",
     "evalue": "module 'data_loader' has no attribute 'TimeSeriesDataset'",
     "output_type": "error",
     "traceback": [
      "\u001b[0;31m---------------------------------------------------------------------------\u001b[0m",
      "\u001b[0;31mAttributeError\u001b[0m                            Traceback (most recent call last)",
      "\u001b[0;32m/local_scratch/slurm.4037016/ipykernel_1664346/175708924.py\u001b[0m in \u001b[0;36m<module>\u001b[0;34m\u001b[0m\n\u001b[1;32m      5\u001b[0m \u001b[0mmodel_configs\u001b[0m \u001b[0;34m=\u001b[0m \u001b[0mconfigs\u001b[0m\u001b[0;34m[\u001b[0m\u001b[0;34m'kinematic_model_configs'\u001b[0m\u001b[0;34m]\u001b[0m\u001b[0;34m\u001b[0m\u001b[0;34m\u001b[0m\u001b[0m\n\u001b[1;32m      6\u001b[0m \u001b[0mall_sc\u001b[0m \u001b[0;34m=\u001b[0m \u001b[0mlist\u001b[0m\u001b[0;34m(\u001b[0m\u001b[0mkinematic_data\u001b[0m\u001b[0;34m.\u001b[0m\u001b[0mkeys\u001b[0m\u001b[0;34m(\u001b[0m\u001b[0;34m)\u001b[0m\u001b[0;34m)\u001b[0m\u001b[0;34m\u001b[0m\u001b[0;34m\u001b[0m\u001b[0m\n\u001b[0;32m----> 7\u001b[0;31m dataset = data_loader.TimeSeriesDataset(data=kinematic_data, \n\u001b[0m\u001b[1;32m      8\u001b[0m                                         \u001b[0mis_train\u001b[0m\u001b[0;34m=\u001b[0m\u001b[0;32mTrue\u001b[0m\u001b[0;34m,\u001b[0m\u001b[0;34m\u001b[0m\u001b[0;34m\u001b[0m\u001b[0m\n\u001b[1;32m      9\u001b[0m                                         \u001b[0mgt\u001b[0m\u001b[0;34m=\u001b[0m\u001b[0;34m{\u001b[0m\u001b[0mkey\u001b[0m\u001b[0;34m:\u001b[0m \u001b[0mgrades\u001b[0m\u001b[0;34m[\u001b[0m\u001b[0;34m'new'\u001b[0m\u001b[0;34m]\u001b[0m\u001b[0;34m[\u001b[0m\u001b[0mkey\u001b[0m\u001b[0;34m]\u001b[0m \u001b[0;32mfor\u001b[0m \u001b[0mkey\u001b[0m \u001b[0;32min\u001b[0m \u001b[0mall_sc\u001b[0m\u001b[0;34m}\u001b[0m\u001b[0;34m,\u001b[0m\u001b[0;34m\u001b[0m\u001b[0;34m\u001b[0m\u001b[0m\n",
      "\u001b[0;31mAttributeError\u001b[0m: module 'data_loader' has no attribute 'TimeSeriesDataset'"
     ]
    }
   ],
   "source": [
    "%autoreload 1\n",
    "sys.path[:] = original_sys_path\n",
    "sys.path.append('kinematic_model')\n",
    "%aimport data_loader\n",
    "model_configs = configs['kinematic_model_configs'] \n",
    "all_sc = list(kinematic_data.keys())\n",
    "dataset = data_loader.TimeSeriesDataset(data=kinematic_data, \n",
    "                                        is_train=True,\n",
    "                                        gt={key: grades['new'][key] for key in all_sc}, \n",
    "                                        gesture_list=configs['gesture_list'], \n",
    "                                        target_cycle_len=configs['target_cycle_len'], \n",
    "                                        mean=None, std=None,\n",
    "                                        downsample_rate=configs['downsample_rate'])"
   ]
  },
  {
   "cell_type": "code",
   "execution_count": 7,
   "id": "7ac430ee-46e1-44b6-bb31-9d3a4f28bc9d",
   "metadata": {
    "tags": []
   },
   "outputs": [
    {
     "ename": "NameError",
     "evalue": "name 'kf' is not defined",
     "output_type": "error",
     "traceback": [
      "\u001b[0;31m---------------------------------------------------------------------------\u001b[0m",
      "\u001b[0;31mNameError\u001b[0m                                 Traceback (most recent call last)",
      "\u001b[0;32m/local_scratch/slurm.2347798/ipykernel_212294/2383939829.py\u001b[0m in \u001b[0;36m<module>\u001b[0;34m\u001b[0m\n\u001b[0;32m----> 1\u001b[0;31m \u001b[0;32mfor\u001b[0m \u001b[0mfold\u001b[0m\u001b[0;34m,\u001b[0m \u001b[0;34m(\u001b[0m\u001b[0mtrain_idx\u001b[0m\u001b[0;34m,\u001b[0m \u001b[0mtest_idx\u001b[0m\u001b[0;34m)\u001b[0m \u001b[0;32min\u001b[0m \u001b[0menumerate\u001b[0m\u001b[0;34m(\u001b[0m\u001b[0mkf\u001b[0m\u001b[0;34m.\u001b[0m\u001b[0msplit\u001b[0m\u001b[0;34m(\u001b[0m\u001b[0mall_sc\u001b[0m\u001b[0;34m)\u001b[0m\u001b[0;34m)\u001b[0m\u001b[0;34m:\u001b[0m\u001b[0;34m\u001b[0m\u001b[0;34m\u001b[0m\u001b[0m\n\u001b[0m\u001b[1;32m      2\u001b[0m     \u001b[0;32mif\u001b[0m \u001b[0mfold\u001b[0m \u001b[0;34m==\u001b[0m \u001b[0;36m0\u001b[0m\u001b[0;34m:\u001b[0m\u001b[0;34m\u001b[0m\u001b[0;34m\u001b[0m\u001b[0m\n\u001b[1;32m      3\u001b[0m         \u001b[0;32mbreak\u001b[0m\u001b[0;34m\u001b[0m\u001b[0;34m\u001b[0m\u001b[0m\n",
      "\u001b[0;31mNameError\u001b[0m: name 'kf' is not defined"
     ]
    }
   ],
   "source": [
    "for fold, (train_idx, test_idx) in enumerate(kf.split(all_sc)):\n",
    "    if fold == 0:\n",
    "        break"
   ]
  },
  {
   "cell_type": "code",
   "execution_count": null,
   "id": "d54156e6-21cb-4d96-98cc-007be7968b01",
   "metadata": {
    "tags": []
   },
   "outputs": [],
   "source": [
    "cv_configs = configs['cv_configs']\n",
    "gt_labels = grades['new']\n",
    "all_sc = np.array(list(gt_labels.keys()))\n",
    "valid_sc = np.array(list(kinematic_data.keys()))\n",
    "\n",
    "num_classes = len(np.unique(list(gt_labels.values())))\n",
    "kf = KFold(n_splits=cv_configs['num_splits'], \n",
    "       shuffle=True, \n",
    "       random_state=cv_configs['random_seed'])\n",
    "\n",
    "# Define datasets for the current fold\n",
    "train_gt = {key: gt_labels[key] for key in all_sc[train_idx] if key in valid_sc}\n",
    "train_data = {key: kinematic_data[key] for key in all_sc[train_idx] if key in valid_sc}\n",
    "train_set = data_loader.TimeSeriesDataset(\n",
    "    data=train_data,\n",
    "    gt=train_gt,\n",
    "    gesture_list=configs['gesture_list'], \n",
    "    target_cycle_len=configs['target_cycle_len'], \n",
    "    mean=None, std=None,\n",
    "    downsample_rate=configs['downsample_rate']\n",
    "    )\n",
    "        "
   ]
  },
  {
   "cell_type": "code",
   "execution_count": null,
   "id": "c4b583a5-701a-479c-8e46-7edc14a6c89a",
   "metadata": {
    "tags": []
   },
   "outputs": [],
   "source": [
    "%autoreload 1\n",
    "%aimport sys\n",
    "sys.path[:] = original_sys_path\n",
    "sys.path.append('kinematic_model')\n",
    "%aimport model"
   ]
  },
  {
   "cell_type": "code",
   "execution_count": null,
   "id": "d456688a-2a79-417c-a94f-8538ce505da5",
   "metadata": {
    "tags": []
   },
   "outputs": [],
   "source": [
    "kinematic_model = model.KinematicModel(n_gestures=5, input_channels=8, feat_channel=8, num_classes=3)\n",
    "kinematic_model = kinematic_model.apply(model.initialize_weights)\n",
    "kinematic_model.load_state_dict(torch.load('/project/ahoover/mhealth/zeyut/tmc/results/kinematic_model/model_2_fold_1.pth'))\n",
    "kinematic_model = kinematic_model.to(device)"
   ]
  },
  {
   "cell_type": "code",
   "execution_count": 201,
   "id": "7b0bb424-be87-4ac3-833b-45d9c76f4833",
   "metadata": {
    "tags": []
   },
   "outputs": [
    {
     "data": {
      "text/plain": [
       "torch.Size([5, 8, 1200])"
      ]
     },
     "execution_count": 201,
     "metadata": {},
     "output_type": "execute_result"
    }
   ],
   "source": [
    "sample.size()"
   ]
  },
  {
   "cell_type": "code",
   "execution_count": 202,
   "id": "4299193b-ccd1-4f45-a3ac-2ec7089b9f48",
   "metadata": {
    "tags": []
   },
   "outputs": [
    {
     "name": "stdout",
     "output_type": "stream",
     "text": [
      "0 tensor(0) tensor([[9.9902e-01, 3.5975e-04, 6.1779e-04]], device='cuda:0')\n",
      "2 tensor(2) tensor([[0.0017, 0.0042, 0.9941]], device='cuda:0')\n",
      "1 tensor(1) tensor([[0.0079, 0.9809, 0.0111]], device='cuda:0')\n",
      "1 tensor(1) tensor([[0.0012, 0.9960, 0.0028]], device='cuda:0')\n",
      "1 tensor(1) tensor([[7.7609e-04, 9.9842e-01, 8.0242e-04]], device='cuda:0')\n",
      "1 tensor(1) tensor([[5.9522e-04, 9.9865e-01, 7.5386e-04]], device='cuda:0')\n",
      "2 tensor(2) tensor([[0.0033, 0.0152, 0.9815]], device='cuda:0')\n",
      "1 tensor(1) tensor([[0.0099, 0.9756, 0.0145]], device='cuda:0')\n",
      "1 tensor(1) tensor([[0.0025, 0.9936, 0.0039]], device='cuda:0')\n",
      "1 tensor(1) tensor([[0.0061, 0.9886, 0.0053]], device='cuda:0')\n"
     ]
    }
   ],
   "source": [
    "kinematic_model.eval()\n",
    "with torch.no_grad():\n",
    "    for i in range(10):\n",
    "        sample,label = train_set[i]\n",
    "        output = kinematic_model(sample.unsqueeze(0).to(device))\n",
    "        pred = torch.argmax(output).cpu().detach().numpy()\n",
    "        print(pred, label, output)"
   ]
  },
  {
   "cell_type": "code",
   "execution_count": 167,
   "id": "255dfe40-3d21-4522-a159-f5f2cc7bc691",
   "metadata": {
    "tags": []
   },
   "outputs": [
    {
     "data": {
      "text/plain": [
       "tensor([2], device='cuda:0')"
      ]
     },
     "execution_count": 167,
     "metadata": {},
     "output_type": "execute_result"
    }
   ],
   "source": [
    "pred"
   ]
  },
  {
   "cell_type": "code",
   "execution_count": 118,
   "id": "a119098f-e5b3-4e6e-a2b5-9e4bdb83a2b9",
   "metadata": {
    "tags": []
   },
   "outputs": [
    {
     "data": {
      "text/plain": [
       "==========================================================================================\n",
       "Layer (type:depth-idx)                   Output Shape              Param #\n",
       "==========================================================================================\n",
       "KinematicModel                           [1, 3]                    --\n",
       "├─CNN_LSTM: 1-1                          [1, 64]                   --\n",
       "│    └─Conv1d: 2-1                       [1, 16, 600]              5,264\n",
       "│    └─Conv1d: 2-2                       [1, 32, 300]              10,784\n",
       "│    └─Conv1d: 2-3                       [1, 32, 150]              5,152\n",
       "│    └─BatchNorm1d: 2-4                  [1, 32, 150]              64\n",
       "│    └─ReLU: 2-5                         [1, 32, 150]              --\n",
       "│    └─LSTM: 2-6                         [1, 150, 64]              16,896\n",
       "│    └─LSTM: 2-7                         [1, 150, 64]              33,280\n",
       "│    └─BatchNorm1d: 2-8                  [1, 64, 150]              128\n",
       "│    └─ReLU: 2-9                         [1, 64, 150]              --\n",
       "│    └─AdaptiveMaxPool1d: 2-10           [1, 64, 1]                --\n",
       "│    └─Dropout: 2-11                     [1, 64, 1]                --\n",
       "│    └─Linear: 2-12                      [1, 64]                   4,160\n",
       "├─CNN_LSTM: 1-2                          [1, 64]                   (recursive)\n",
       "│    └─Conv1d: 2-13                      [1, 16, 600]              (recursive)\n",
       "│    └─Conv1d: 2-14                      [1, 32, 300]              (recursive)\n",
       "│    └─Conv1d: 2-15                      [1, 32, 150]              (recursive)\n",
       "│    └─BatchNorm1d: 2-16                 [1, 32, 150]              (recursive)\n",
       "│    └─ReLU: 2-17                        [1, 32, 150]              --\n",
       "│    └─LSTM: 2-18                        [1, 150, 64]              (recursive)\n",
       "│    └─LSTM: 2-19                        [1, 150, 64]              (recursive)\n",
       "│    └─BatchNorm1d: 2-20                 [1, 64, 150]              (recursive)\n",
       "│    └─ReLU: 2-21                        [1, 64, 150]              --\n",
       "│    └─AdaptiveMaxPool1d: 2-22           [1, 64, 1]                --\n",
       "│    └─Dropout: 2-23                     [1, 64, 1]                --\n",
       "│    └─Linear: 2-24                      [1, 64]                   (recursive)\n",
       "├─CNN_LSTM: 1-3                          [1, 64]                   (recursive)\n",
       "│    └─Conv1d: 2-25                      [1, 16, 600]              (recursive)\n",
       "│    └─Conv1d: 2-26                      [1, 32, 300]              (recursive)\n",
       "│    └─Conv1d: 2-27                      [1, 32, 150]              (recursive)\n",
       "│    └─BatchNorm1d: 2-28                 [1, 32, 150]              (recursive)\n",
       "│    └─ReLU: 2-29                        [1, 32, 150]              --\n",
       "│    └─LSTM: 2-30                        [1, 150, 64]              (recursive)\n",
       "│    └─LSTM: 2-31                        [1, 150, 64]              (recursive)\n",
       "│    └─BatchNorm1d: 2-32                 [1, 64, 150]              (recursive)\n",
       "│    └─ReLU: 2-33                        [1, 64, 150]              --\n",
       "│    └─AdaptiveMaxPool1d: 2-34           [1, 64, 1]                --\n",
       "│    └─Dropout: 2-35                     [1, 64, 1]                --\n",
       "│    └─Linear: 2-36                      [1, 64]                   (recursive)\n",
       "├─CNN_LSTM: 1-4                          [1, 64]                   (recursive)\n",
       "│    └─Conv1d: 2-37                      [1, 16, 600]              (recursive)\n",
       "│    └─Conv1d: 2-38                      [1, 32, 300]              (recursive)\n",
       "│    └─Conv1d: 2-39                      [1, 32, 150]              (recursive)\n",
       "│    └─BatchNorm1d: 2-40                 [1, 32, 150]              (recursive)\n",
       "│    └─ReLU: 2-41                        [1, 32, 150]              --\n",
       "│    └─LSTM: 2-42                        [1, 150, 64]              (recursive)\n",
       "│    └─LSTM: 2-43                        [1, 150, 64]              (recursive)\n",
       "│    └─BatchNorm1d: 2-44                 [1, 64, 150]              (recursive)\n",
       "│    └─ReLU: 2-45                        [1, 64, 150]              --\n",
       "│    └─AdaptiveMaxPool1d: 2-46           [1, 64, 1]                --\n",
       "│    └─Dropout: 2-47                     [1, 64, 1]                --\n",
       "│    └─Linear: 2-48                      [1, 64]                   (recursive)\n",
       "├─CNN_LSTM: 1-5                          [1, 64]                   (recursive)\n",
       "│    └─Conv1d: 2-49                      [1, 16, 600]              (recursive)\n",
       "│    └─Conv1d: 2-50                      [1, 32, 300]              (recursive)\n",
       "│    └─Conv1d: 2-51                      [1, 32, 150]              (recursive)\n",
       "│    └─BatchNorm1d: 2-52                 [1, 32, 150]              (recursive)\n",
       "│    └─ReLU: 2-53                        [1, 32, 150]              --\n",
       "│    └─LSTM: 2-54                        [1, 150, 64]              (recursive)\n",
       "│    └─LSTM: 2-55                        [1, 150, 64]              (recursive)\n",
       "│    └─BatchNorm1d: 2-56                 [1, 64, 150]              (recursive)\n",
       "│    └─ReLU: 2-57                        [1, 64, 150]              --\n",
       "│    └─AdaptiveMaxPool1d: 2-58           [1, 64, 1]                --\n",
       "│    └─Dropout: 2-59                     [1, 64, 1]                --\n",
       "│    └─Linear: 2-60                      [1, 64]                   (recursive)\n",
       "├─ReLU: 1-6                              [1, 320]                  --\n",
       "├─BatchNorm1d: 1-7                       [1, 320]                  640\n",
       "├─Dropout: 1-8                           [1, 320]                  --\n",
       "├─Linear: 1-9                            [1, 3]                    963\n",
       "├─Softmax: 1-10                          [1, 3]                    --\n",
       "==========================================================================================\n",
       "Total params: 77,331\n",
       "Trainable params: 77,331\n",
       "Non-trainable params: 0\n",
       "Total mult-adds (M): 73.49\n",
       "==========================================================================================\n",
       "Input size (MB): 0.19\n",
       "Forward/backward pass size (MB): 2.31\n",
       "Params size (MB): 0.31\n",
       "Estimated Total Size (MB): 2.81\n",
       "=========================================================================================="
      ]
     },
     "execution_count": 118,
     "metadata": {},
     "output_type": "execute_result"
    }
   ],
   "source": [
    "downsample_rate = configs['downsample_rate']\n",
    "summary(kinematic_model, input_size=(1, 5, 8, 12000//downsample_rate))"
   ]
  },
  {
   "cell_type": "code",
   "execution_count": 73,
   "id": "beac3613-db4c-4dac-8661-6db04f91326e",
   "metadata": {
    "tags": []
   },
   "outputs": [],
   "source": [
    "kinematic_model.eval()\n",
    "output = kinematic_model(sample.unsqueeze(0).to(device))"
   ]
  },
  {
   "cell_type": "markdown",
   "id": "84598b9c-1809-4fcf-8250-7bb67e2569df",
   "metadata": {},
   "source": [
    "### Image model"
   ]
  },
  {
   "cell_type": "code",
   "execution_count": 304,
   "id": "0f74b3b3-3b66-4859-86ed-ba8d9b53afc4",
   "metadata": {
    "tags": []
   },
   "outputs": [
    {
     "ename": "KeyboardInterrupt",
     "evalue": "",
     "output_type": "error",
     "traceback": [
      "\u001b[0;31m---------------------------------------------------------------------------\u001b[0m",
      "\u001b[0;31mKeyboardInterrupt\u001b[0m                         Traceback (most recent call last)",
      "\u001b[0;32m/local_scratch/slurm.2032874/ipykernel_1423088/431159271.py\u001b[0m in \u001b[0;36m<module>\u001b[0;34m\u001b[0m\n\u001b[1;32m      1\u001b[0m \u001b[0;32mwith\u001b[0m \u001b[0mopen\u001b[0m\u001b[0;34m(\u001b[0m\u001b[0mos\u001b[0m\u001b[0;34m.\u001b[0m\u001b[0mpath\u001b[0m\u001b[0;34m.\u001b[0m\u001b[0mjoin\u001b[0m\u001b[0;34m(\u001b[0m\u001b[0mconfigs\u001b[0m\u001b[0;34m[\u001b[0m\u001b[0;34m'processed_data_path'\u001b[0m\u001b[0;34m]\u001b[0m\u001b[0;34m,\u001b[0m \u001b[0;34m'image_data.pkl'\u001b[0m\u001b[0;34m)\u001b[0m\u001b[0;34m,\u001b[0m \u001b[0;34m'rb'\u001b[0m\u001b[0;34m)\u001b[0m \u001b[0;32mas\u001b[0m \u001b[0mfile\u001b[0m\u001b[0;34m:\u001b[0m\u001b[0;34m\u001b[0m\u001b[0;34m\u001b[0m\u001b[0m\n\u001b[0;32m----> 2\u001b[0;31m     \u001b[0mimage_data\u001b[0m \u001b[0;34m=\u001b[0m \u001b[0mpickle\u001b[0m\u001b[0;34m.\u001b[0m\u001b[0mload\u001b[0m\u001b[0;34m(\u001b[0m\u001b[0mfile\u001b[0m\u001b[0;34m)\u001b[0m\u001b[0;34m\u001b[0m\u001b[0;34m\u001b[0m\u001b[0m\n\u001b[0m",
      "\u001b[0;31mKeyboardInterrupt\u001b[0m: "
     ]
    }
   ],
   "source": [
    "with open(os.path.join(configs['processed_data_path'], 'image_data.pkl'), 'rb') as file:\n",
    "    image_data = pickle.load(file)"
   ]
  },
  {
   "cell_type": "code",
   "execution_count": null,
   "id": "ce615209-6a14-4593-ad6c-8f396a6ef808",
   "metadata": {
    "tags": []
   },
   "outputs": [],
   "source": [
    "%autoreload 1\n",
    "sys.path[:] = original_sys_path\n",
    "sys.path.append('image_model')\n",
    "%aimport data_loader\n"
   ]
  },
  {
   "cell_type": "code",
   "execution_count": 124,
   "id": "9f1e03b2-34b6-489e-b79b-d5bbcfd4fdc4",
   "metadata": {
    "tags": []
   },
   "outputs": [],
   "source": [
    "\n",
    "model_configs = configs['image_model_configs'] \n",
    "gt_labels = grades['new']\n",
    "all_sc = list(gt_labels.keys())\n",
    "\n",
    "\n",
    "# Define datasets for the current fold\n",
    "dataset = data_loader.ImageDataset(\n",
    "    gt={key: gt_labels[key] for key in all_sc},\n",
    "    data=image_data\n",
    ")\n"
   ]
  },
  {
   "cell_type": "code",
   "execution_count": 129,
   "id": "0094768c-8704-47dc-bc50-586e20826b9a",
   "metadata": {
    "tags": []
   },
   "outputs": [
    {
     "data": {
      "text/plain": [
       "dict_keys(['J10', 'H8', 'H1', 'H2'])"
      ]
     },
     "execution_count": 129,
     "metadata": {},
     "output_type": "execute_result"
    }
   ],
   "source": [
    "dataset.data.keys()"
   ]
  },
  {
   "cell_type": "code",
   "execution_count": 125,
   "id": "49af8d45-1b67-4bac-bf77-b6567ce9203a",
   "metadata": {
    "tags": []
   },
   "outputs": [
    {
     "ename": "IndexError",
     "evalue": "too many indices for array: array is 0-dimensional, but 3 were indexed",
     "output_type": "error",
     "traceback": [
      "\u001b[0;31m---------------------------------------------------------------------------\u001b[0m",
      "\u001b[0;31mIndexError\u001b[0m                                Traceback (most recent call last)",
      "\u001b[0;32m/local_scratch/slurm.2032874/ipykernel_1417865/1508634897.py\u001b[0m in \u001b[0;36m<module>\u001b[0;34m\u001b[0m\n\u001b[0;32m----> 1\u001b[0;31m \u001b[0msample\u001b[0m\u001b[0;34m,\u001b[0m \u001b[0mlabel\u001b[0m \u001b[0;34m=\u001b[0m \u001b[0mdataset\u001b[0m\u001b[0;34m[\u001b[0m\u001b[0;36m0\u001b[0m\u001b[0;34m]\u001b[0m\u001b[0;34m\u001b[0m\u001b[0;34m\u001b[0m\u001b[0m\n\u001b[0m",
      "\u001b[0;32m~/tmc/image_model/data_loader.py\u001b[0m in \u001b[0;36m__getitem__\u001b[0;34m(self, idx)\u001b[0m\n\u001b[1;32m     42\u001b[0m         \u001b[0;31m# Read images\u001b[0m\u001b[0;34m\u001b[0m\u001b[0;34m\u001b[0m\u001b[0;34m\u001b[0m\u001b[0m\n\u001b[1;32m     43\u001b[0m         \u001b[0mcur_data\u001b[0m \u001b[0;34m=\u001b[0m \u001b[0mnp\u001b[0m\u001b[0;34m.\u001b[0m\u001b[0mcopy\u001b[0m\u001b[0;34m(\u001b[0m\u001b[0mself\u001b[0m\u001b[0;34m.\u001b[0m\u001b[0mdata\u001b[0m\u001b[0;34m[\u001b[0m\u001b[0msc\u001b[0m\u001b[0;34m]\u001b[0m\u001b[0;34m)\u001b[0m\u001b[0;34m\u001b[0m\u001b[0;34m\u001b[0m\u001b[0m\n\u001b[0;32m---> 44\u001b[0;31m         \u001b[0mcur_data\u001b[0m \u001b[0;34m=\u001b[0m \u001b[0mcur_data\u001b[0m\u001b[0;34m[\u001b[0m\u001b[0;34m:\u001b[0m\u001b[0;34m:\u001b[0m\u001b[0;36m4\u001b[0m\u001b[0;34m,\u001b[0m \u001b[0;34m:\u001b[0m\u001b[0;34m:\u001b[0m\u001b[0;36m4\u001b[0m\u001b[0;34m,\u001b[0m \u001b[0;34m:\u001b[0m\u001b[0;34m:\u001b[0m\u001b[0;36m4\u001b[0m\u001b[0;34m]\u001b[0m \u001b[0;31m# resize to 128x128x128\u001b[0m\u001b[0;34m\u001b[0m\u001b[0;34m\u001b[0m\u001b[0m\n\u001b[0m\u001b[1;32m     45\u001b[0m         \u001b[0mnoise\u001b[0m \u001b[0;34m=\u001b[0m \u001b[0mtorch\u001b[0m\u001b[0;34m.\u001b[0m\u001b[0mrandn\u001b[0m\u001b[0;34m(\u001b[0m\u001b[0mcur_data\u001b[0m\u001b[0;34m.\u001b[0m\u001b[0msize\u001b[0m\u001b[0;34m(\u001b[0m\u001b[0;34m)\u001b[0m\u001b[0;34m)\u001b[0m \u001b[0;34m*\u001b[0m \u001b[0mstd_dev\u001b[0m \u001b[0;34m+\u001b[0m \u001b[0mmean\u001b[0m\u001b[0;34m\u001b[0m\u001b[0;34m\u001b[0m\u001b[0m\n\u001b[1;32m     46\u001b[0m         \u001b[0mcur_data\u001b[0m \u001b[0;34m=\u001b[0m \u001b[0mcur_data\u001b[0m\u001b[0;34m.\u001b[0m\u001b[0munsqueeze\u001b[0m\u001b[0;34m(\u001b[0m\u001b[0;36m0\u001b[0m\u001b[0;34m)\u001b[0m \u001b[0;31m# Add the channel dimension\u001b[0m\u001b[0;34m\u001b[0m\u001b[0;34m\u001b[0m\u001b[0m\n",
      "\u001b[0;31mIndexError\u001b[0m: too many indices for array: array is 0-dimensional, but 3 were indexed"
     ]
    }
   ],
   "source": [
    "sample, label = dataset[0]"
   ]
  },
  {
   "cell_type": "code",
   "execution_count": 101,
   "id": "1155b17c-a09c-498a-bbce-e19c80a4740c",
   "metadata": {
    "tags": []
   },
   "outputs": [
    {
     "data": {
      "text/plain": [
       "tensor(6141.)"
      ]
     },
     "execution_count": 101,
     "metadata": {},
     "output_type": "execute_result"
    }
   ],
   "source": [
    "sample.max()"
   ]
  },
  {
   "cell_type": "code",
   "execution_count": 94,
   "id": "bf095da3-6db6-4d30-bc23-c93709d47a48",
   "metadata": {
    "tags": []
   },
   "outputs": [],
   "source": [
    "%autoreload 1\n",
    "%aimport model"
   ]
  },
  {
   "cell_type": "code",
   "execution_count": 95,
   "id": "29e16cca-2806-4bd1-9c6c-34f73a661f22",
   "metadata": {
    "tags": []
   },
   "outputs": [],
   "source": [
    "unet = model.SwinUNETRClassifier(model_configs['seed_path'], 3)\n",
    "unet = unet.to(device)"
   ]
  },
  {
   "cell_type": "code",
   "execution_count": 96,
   "id": "45f93a29-7fb1-465b-9a24-f14ae05e8454",
   "metadata": {
    "tags": []
   },
   "outputs": [
    {
     "data": {
      "text/plain": [
       "768"
      ]
     },
     "execution_count": 96,
     "metadata": {},
     "output_type": "execute_result"
    }
   ],
   "source": [
    "4**4+4**4+8*2**3+16*2**3+64"
   ]
  },
  {
   "cell_type": "code",
   "execution_count": 97,
   "id": "1de060fd-d142-4cec-b9af-cb6da7c450e9",
   "metadata": {},
   "outputs": [
    {
     "name": "stdout",
     "output_type": "stream",
     "text": [
      "torch.Size([1, 384])\n"
     ]
    },
    {
     "data": {
      "text/plain": [
       "=========================================================================================================\n",
       "Layer (type:depth-idx)                                  Output Shape              Param #\n",
       "=========================================================================================================\n",
       "SwinUNETRClassifier                                     [1, 3]                    --\n",
       "├─SwinTransformer: 1-1                                  [1, 48, 64, 64, 64]       --\n",
       "│    └─PatchEmbed: 2-1                                  [1, 48, 64, 64, 64]       --\n",
       "│    │    └─Conv3d: 3-1                                 [1, 48, 64, 64, 64]       (432)\n",
       "│    └─Dropout: 2-2                                     [1, 48, 64, 64, 64]       --\n",
       "│    └─ModuleList: 2-3                                  --                        --\n",
       "│    │    └─BasicLayer: 3-2                             [1, 96, 32, 32, 32]       (107,358)\n",
       "│    └─ModuleList: 2-4                                  --                        --\n",
       "│    │    └─BasicLayer: 3-3                             [1, 192, 16, 16, 16]      (399,036)\n",
       "│    └─ModuleList: 2-5                                  --                        --\n",
       "│    │    └─BasicLayer: 3-4                             [1, 384, 8, 8, 8]         (1,535,352)\n",
       "│    └─ModuleList: 2-6                                  --                        --\n",
       "│    │    └─BasicLayer: 3-5                             [1, 768, 4, 4, 4]         (6,019,824)\n",
       "├─UnetrBasicBlock: 1-2                                  [1, 48, 128, 128, 128]    --\n",
       "│    └─UnetResBlock: 2-7                                [1, 48, 128, 128, 128]    --\n",
       "│    │    └─Convolution: 3-6                            [1, 48, 128, 128, 128]    (1,296)\n",
       "│    │    └─InstanceNorm3d: 3-7                         [1, 48, 128, 128, 128]    --\n",
       "│    │    └─LeakyReLU: 3-8                              [1, 48, 128, 128, 128]    --\n",
       "│    │    └─Convolution: 3-9                            [1, 48, 128, 128, 128]    (62,208)\n",
       "│    │    └─InstanceNorm3d: 3-10                        [1, 48, 128, 128, 128]    --\n",
       "│    │    └─Convolution: 3-11                           [1, 48, 128, 128, 128]    (48)\n",
       "│    │    └─InstanceNorm3d: 3-12                        [1, 48, 128, 128, 128]    --\n",
       "│    │    └─LeakyReLU: 3-13                             [1, 48, 128, 128, 128]    --\n",
       "├─UnetrBasicBlock: 1-3                                  [1, 48, 64, 64, 64]       --\n",
       "│    └─UnetResBlock: 2-8                                [1, 48, 64, 64, 64]       --\n",
       "│    │    └─Convolution: 3-14                           [1, 48, 64, 64, 64]       (62,208)\n",
       "│    │    └─InstanceNorm3d: 3-15                        [1, 48, 64, 64, 64]       --\n",
       "│    │    └─LeakyReLU: 3-16                             [1, 48, 64, 64, 64]       --\n",
       "│    │    └─Convolution: 3-17                           [1, 48, 64, 64, 64]       (62,208)\n",
       "│    │    └─InstanceNorm3d: 3-18                        [1, 48, 64, 64, 64]       --\n",
       "│    │    └─LeakyReLU: 3-19                             [1, 48, 64, 64, 64]       --\n",
       "├─UnetrBasicBlock: 1-4                                  [1, 96, 32, 32, 32]       --\n",
       "│    └─UnetResBlock: 2-9                                [1, 96, 32, 32, 32]       --\n",
       "│    │    └─Convolution: 3-20                           [1, 96, 32, 32, 32]       (248,832)\n",
       "│    │    └─InstanceNorm3d: 3-21                        [1, 96, 32, 32, 32]       --\n",
       "│    │    └─LeakyReLU: 3-22                             [1, 96, 32, 32, 32]       --\n",
       "│    │    └─Convolution: 3-23                           [1, 96, 32, 32, 32]       (248,832)\n",
       "│    │    └─InstanceNorm3d: 3-24                        [1, 96, 32, 32, 32]       --\n",
       "│    │    └─LeakyReLU: 3-25                             [1, 96, 32, 32, 32]       --\n",
       "├─UnetrBasicBlock: 1-5                                  [1, 192, 16, 16, 16]      --\n",
       "│    └─UnetResBlock: 2-10                               [1, 192, 16, 16, 16]      --\n",
       "│    │    └─Convolution: 3-26                           [1, 192, 16, 16, 16]      (995,328)\n",
       "│    │    └─InstanceNorm3d: 3-27                        [1, 192, 16, 16, 16]      --\n",
       "│    │    └─LeakyReLU: 3-28                             [1, 192, 16, 16, 16]      --\n",
       "│    │    └─Convolution: 3-29                           [1, 192, 16, 16, 16]      (995,328)\n",
       "│    │    └─InstanceNorm3d: 3-30                        [1, 192, 16, 16, 16]      --\n",
       "│    │    └─LeakyReLU: 3-31                             [1, 192, 16, 16, 16]      --\n",
       "├─UnetrBasicBlock: 1-6                                  [1, 768, 4, 4, 4]         --\n",
       "│    └─UnetResBlock: 2-11                               [1, 768, 4, 4, 4]         --\n",
       "│    │    └─Convolution: 3-32                           [1, 768, 4, 4, 4]         (15,925,248)\n",
       "│    │    └─InstanceNorm3d: 3-33                        [1, 768, 4, 4, 4]         --\n",
       "│    │    └─LeakyReLU: 3-34                             [1, 768, 4, 4, 4]         --\n",
       "│    │    └─Convolution: 3-35                           [1, 768, 4, 4, 4]         (15,925,248)\n",
       "│    │    └─InstanceNorm3d: 3-36                        [1, 768, 4, 4, 4]         --\n",
       "│    │    └─LeakyReLU: 3-37                             [1, 768, 4, 4, 4]         --\n",
       "├─Sequential: 1-7                                       [1, 2, 4, 4, 4]           --\n",
       "│    └─Conv3d: 2-12                                     [1, 2, 128, 128, 128]     98\n",
       "│    └─AdaptiveAvgPool3d: 2-13                          [1, 2, 4, 4, 4]           --\n",
       "├─Sequential: 1-8                                       [1, 2, 4, 4, 4]           --\n",
       "│    └─Conv3d: 2-14                                     [1, 2, 64, 64, 64]        98\n",
       "│    └─AdaptiveAvgPool3d: 2-15                          [1, 2, 4, 4, 4]           --\n",
       "├─Sequential: 1-9                                       [1, 4, 2, 2, 2]           --\n",
       "│    └─Conv3d: 2-16                                     [1, 4, 32, 32, 32]        388\n",
       "│    └─AdaptiveAvgPool3d: 2-17                          [1, 4, 2, 2, 2]           --\n",
       "├─Sequential: 1-10                                      [1, 8, 2, 2, 2]           --\n",
       "│    └─Conv3d: 2-18                                     [1, 8, 16, 16, 16]        1,544\n",
       "│    └─AdaptiveAvgPool3d: 2-19                          [1, 8, 2, 2, 2]           --\n",
       "├─Sequential: 1-11                                      [1, 32, 1, 1, 1]          --\n",
       "│    └─Conv3d: 2-20                                     [1, 32, 4, 4, 4]          24,608\n",
       "│    └─AdaptiveAvgPool3d: 2-21                          [1, 32, 1, 1, 1]          --\n",
       "├─Sequential: 1-12                                      [1, 3]                    --\n",
       "│    └─Linear: 2-22                                     [1, 16]                   6,160\n",
       "│    └─ReLU: 2-23                                       [1, 16]                   --\n",
       "│    └─Dropout: 2-24                                    [1, 16]                   --\n",
       "│    └─Linear: 2-25                                     [1, 3]                    51\n",
       "├─Softmax: 1-13                                         [1, 3]                    --\n",
       "=========================================================================================================\n",
       "Total params: 42,621,733\n",
       "Trainable params: 32,947\n",
       "Non-trainable params: 42,588,786\n",
       "Total mult-adds (G): 192.81\n",
       "=========================================================================================================\n",
       "Input size (MB): 8.39\n",
       "Forward/backward pass size (MB): 6357.87\n",
       "Params size (MB): 169.70\n",
       "Estimated Total Size (MB): 6535.95\n",
       "========================================================================================================="
      ]
     },
     "execution_count": 97,
     "metadata": {},
     "output_type": "execute_result"
    }
   ],
   "source": [
    "summary(unet, input_size=(1, 1, 128, 128, 128))"
   ]
  },
  {
   "cell_type": "code",
   "execution_count": null,
   "id": "3f2a3369-5c4c-4cc9-b90f-c53c4eea148a",
   "metadata": {},
   "outputs": [],
   "source": []
  }
 ],
 "metadata": {
  "kernelspec": {
   "display_name": "torch-1.13",
   "language": "python",
   "name": "torch-1.13"
  },
  "language_info": {
   "codemirror_mode": {
    "name": "ipython",
    "version": 3
   },
   "file_extension": ".py",
   "mimetype": "text/x-python",
   "name": "python",
   "nbconvert_exporter": "python",
   "pygments_lexer": "ipython3",
   "version": "3.7.16"
  }
 },
 "nbformat": 4,
 "nbformat_minor": 5
}
